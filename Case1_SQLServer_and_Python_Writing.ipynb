{
 "cells": [
  {
   "cell_type": "markdown",
   "id": "a4005f07",
   "metadata": {},
   "source": [
    "# SQL Server and Python Integration Project \n",
    "Case 1. Writing"
   ]
  },
  {
   "cell_type": "code",
   "execution_count": null,
   "id": "78a9a8b8",
   "metadata": {},
   "outputs": [
    {
     "name": "stdout",
     "output_type": "stream",
     "text": [
      "Requirement already satisfied: pyodbc in c:\\users\\tamir\\anaconda3\\lib\\site-packages (4.0.34)\n",
      "Note: you may need to restart the kernel to use updated packages.\n"
     ]
    }
   ],
   "source": [
    "# Install the library that integrates SQL Server with Python\n",
    "pip install pyodbc"
   ]
  },
  {
   "cell_type": "code",
   "execution_count": 2,
   "id": "71d6c959",
   "metadata": {},
   "outputs": [
    {
     "name": "stdout",
     "output_type": "stream",
     "text": [
      "Connection Successful\n"
     ]
    }
   ],
   "source": [
    "#Import the library\n",
    "\n",
    "import pyodbc\n",
    "\n",
    "# Create the connection data\n",
    "\n",
    "connection_data = (\n",
    "    'Driver={SQL Server};'\n",
    "    'Server=DESKTOP-QMI8PHI;'\n",
    "    'Database=PythonSQL;'\n",
    "\n",
    ")\n",
    "\n",
    "connection = pyodbc.connect(connection_data)\n",
    "print('Connection Successful')"
   ]
  },
  {
   "cell_type": "code",
   "execution_count": 6,
   "id": "8c8bf6f7",
   "metadata": {},
   "outputs": [],
   "source": [
    "# Create the commands to add information to your database\n",
    "\n",
    "# Create a cursor to allows the SQL command to be executed\n",
    "\n",
    "cursor = connection.cursor() \n",
    "\n",
    "# Create the variables\n",
    "id_sales = 5\n",
    "sale_date = '17/06/2022'\n",
    "customer = 'Erica'\n",
    "product = 'Cell Phone'\n",
    "price = 1500\n",
    "quantity = 1\n",
    "\n",
    "# Create the SQL command\n",
    "\n",
    "command = f'''INSERT INTO Sales (id_sales, sale_date, customer, product, price, quantity) VALUES ({id_sales}, '{sale_date}', '{customer}', '{product}', {price}, {quantity})'''\n",
    "\n",
    "# Execute the SQL command\n",
    "cursor.execute(command)\n",
    "\n",
    "# End transaction data from Python to SQL\n",
    "cursor.commit()\n"
   ]
  }
 ],
 "metadata": {
  "kernelspec": {
   "display_name": "base",
   "language": "python",
   "name": "python3"
  },
  "language_info": {
   "codemirror_mode": {
    "name": "ipython",
    "version": 3
   },
   "file_extension": ".py",
   "mimetype": "text/x-python",
   "name": "python",
   "nbconvert_exporter": "python",
   "pygments_lexer": "ipython3",
   "version": "3.9.13"
  }
 },
 "nbformat": 4,
 "nbformat_minor": 5
}
